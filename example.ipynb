{
 "cells": [
  {
   "cell_type": "code",
   "execution_count": 11,
   "id": "b039b9b4-f733-4e48-a54b-e9ad62dec431",
   "metadata": {},
   "outputs": [],
   "source": [
    "import pyVCT\n",
    "from utils.auxiliary import *\n",
    "import pandas as pd"
   ]
  },
  {
   "cell_type": "markdown",
   "id": "e39eaf14-3e76-45e5-a85e-621723d4c9c2",
   "metadata": {},
   "source": [
    "Set parameters of simulation"
   ]
  },
  {
   "cell_type": "code",
   "execution_count": 13,
   "id": "4fffaf2c-da70-46a6-bb44-8616839957c3",
   "metadata": {},
   "outputs": [],
   "source": [
    "NCX = 3 # number of cells x\n",
    "NCY = 3 # number of cells y\n",
    "PART = 0.5 # percent of FB\n",
    "VOXSIZE = 0.0025 # voxel size\n",
    "SizeX = 1 # size x in mm\n",
    "SizeY = 1 # size y in mm\n",
    "scenario = 'monolayer_bond' # one of scenario 'monolayer_on_fibers', 'monolayer_without_fiber', 'single_on_fiber', 'single_without_fiber', 'monolayer_bond'\n",
    "RAND_SEED = 0 # SEED of random geneartor\n",
    "NRINC = 3001 # number of model steps\n",
    "cyto = 1 # cyto flag that swith on the E_bond part of Hamiltonian (necessary only with 'monolayer_bond' scenario)"
   ]
  },
  {
   "cell_type": "code",
   "execution_count": 24,
   "id": "d6919040-bcdd-45c6-8d9c-2e63c1f0f739",
   "metadata": {},
   "outputs": [],
   "source": [
    "# own dictionary of energy_params"
   ]
  },
  {
   "cell_type": "code",
   "execution_count": 7,
   "id": "e3ddafea-a7d9-4c81-84ca-eec17936d036",
   "metadata": {},
   "outputs": [],
   "source": [
    "config_dict = {\"GN_CM\":{\"value\":153.8024657837445},\"GN_FB\":{\"value\":73.9722990282019},\"LMAX_CM\":{\"value\":65.96875628372032},\"LMAX_FB\":{\"value\":113.86993992849442},\"DETACH_CM\":{\"value\":80.23878850217889},\"DETACH_FB\":{\"value\":18.89881656769304},\"CELL_DAY_TYPE\":{\"value\":\"d20\"},\"MAX_FOCALS_CM\":{\"value\":5},\"MAX_FOCALS_FB\":{\"value\":4},\"INELASTICITY_CM\":{\"value\":250.8474402530476},\"INELASTICITY_FB\":{\"value\":190.52198651824875},\"TARGETVOLUME_CM\":{\"value\":372.0852209450911},\"TARGETVOLUME_FB\":{\"value\":358.78661649228}}"
   ]
  },
  {
   "cell_type": "code",
   "execution_count": 8,
   "id": "7c3387af-e75e-4db9-98c5-10b6387579f0",
   "metadata": {},
   "outputs": [],
   "source": [
    "cfg={}\n",
    "for arg, value in config_dict.items():\n",
    "\t\tcfg[arg]=value['value']"
   ]
  },
  {
   "cell_type": "markdown",
   "id": "2767dcb1-c48e-4998-a923-b0713575bf41",
   "metadata": {},
   "source": [
    "Run simulation"
   ]
  },
  {
   "cell_type": "code",
   "execution_count": 14,
   "id": "b28c61b0-f8ee-445e-8de1-32490f901336",
   "metadata": {},
   "outputs": [],
   "source": [
    "types, ctags, fibers, contacts = pyVCT.py_cpmfem(NCX, NCY, PART, VOXSIZE, SizeX, SizeY, scenario, RAND_SEED, NRINC, cyto, **cfg)"
   ]
  },
  {
   "cell_type": "markdown",
   "id": "1c876020-9a83-4f93-a61e-14bcbd773ce6",
   "metadata": {},
   "source": [
    "To make image"
   ]
  },
  {
   "cell_type": "code",
   "execution_count": 15,
   "id": "688ba058-6fa0-41fd-aebc-8063dbc7b859",
   "metadata": {},
   "outputs": [],
   "source": [
    "cont_param = 0 # 0 not to show connections, 1 - to show"
   ]
  },
  {
   "cell_type": "code",
   "execution_count": null,
   "id": "a71596f8-6f7f-4b85-8ef3-2662c37d38be",
   "metadata": {},
   "outputs": [],
   "source": [
    "from PIL import Image"
   ]
  },
  {
   "cell_type": "code",
   "execution_count": 17,
   "id": "d0df8c8f-b678-40ae-85b5-d51f4771c034",
   "metadata": {},
   "outputs": [],
   "source": [
    "img = make_image(ctags, types , fibers, contacts, cont_param)\n",
    "img = Image.fromarray(img)"
   ]
  },
  {
   "cell_type": "code",
   "execution_count": 21,
   "id": "40c064a8-4c02-4387-9fb5-eb3118ee5801",
   "metadata": {},
   "outputs": [],
   "source": [
    "img.show()"
   ]
  },
  {
   "cell_type": "code",
   "execution_count": 22,
   "id": "7a4100ad-c5ab-4ad4-afa2-c80f924584df",
   "metadata": {},
   "outputs": [],
   "source": [
    "img.save('example.jpg')"
   ]
  },
  {
   "cell_type": "markdown",
   "id": "05120019-372f-4ca1-940e-43734fe54514",
   "metadata": {},
   "source": [
    "For analysis with data"
   ]
  },
  {
   "cell_type": "code",
   "execution_count": null,
   "id": "ad3ebca2-1b5d-426c-829d-084dbc74f718",
   "metadata": {},
   "outputs": [],
   "source": [
    "data = pd.read_csv('data.csv')"
   ]
  },
  {
   "cell_type": "code",
   "execution_count": null,
   "id": "59bbf7fd-80c9-4bcd-acc8-e790ecf4f4c7",
   "metadata": {},
   "outputs": [],
   "source": [
    "CM, FB = make_df(ctags, types)"
   ]
  },
  {
   "cell_type": "code",
   "execution_count": null,
   "id": "3333f20e-ccd5-468f-a0a7-28a63fd97336",
   "metadata": {},
   "outputs": [],
   "source": [
    "cell_day_type = 'd20' # can be 'd20' or 'p2-1'"
   ]
  },
  {
   "cell_type": "code",
   "execution_count": null,
   "id": "7aa0239d-5c2b-4279-bf30-78a5cbc447a9",
   "metadata": {},
   "outputs": [],
   "source": [
    "cm_exp, fb_exp = get_exp_distributions(data, cell_day_type)"
   ]
  },
  {
   "cell_type": "code",
   "execution_count": null,
   "id": "7a999a15-61b6-412d-8e20-47827d4cd970",
   "metadata": {},
   "outputs": [],
   "source": [
    "metrics = compute_metrics(CM, FB, ctags, types, fibers, contacts, cm_exp, fb_exp)"
   ]
  }
 ],
 "metadata": {
  "kernelspec": {
   "display_name": "Python 3 (ipykernel)",
   "language": "python",
   "name": "python3"
  },
  "language_info": {
   "codemirror_mode": {
    "name": "ipython",
    "version": 3
   },
   "file_extension": ".py",
   "mimetype": "text/x-python",
   "name": "python",
   "nbconvert_exporter": "python",
   "pygments_lexer": "ipython3",
   "version": "3.11.4"
  }
 },
 "nbformat": 4,
 "nbformat_minor": 5
}
