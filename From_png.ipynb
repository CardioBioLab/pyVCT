{
 "cells": [
  {
   "cell_type": "code",
   "execution_count": null,
   "id": "dc71660a-5ac1-45ea-8d8b-3f92aed45c26",
   "metadata": {},
   "outputs": [],
   "source": [
    "import pyVCT\n",
    "from auxiliary import *"
   ]
  },
  {
   "cell_type": "markdown",
   "id": "57fa9b27-5a86-414d-af28-9b4c81c90311",
   "metadata": {},
   "source": [
    "Set parameters of simulation"
   ]
  },
  {
   "cell_type": "code",
   "execution_count": null,
   "id": "9f2518bd-de92-4f1b-ae64-9da6e6d219a9",
   "metadata": {},
   "outputs": [],
   "source": [
    "path_to_map = '1.png'\n",
    "resolution = 0.625 # resolution of image\n",
    "VOXSIZE = 0.0025 # size of voxel\n",
    "mean_area = 130 # mean area of cell\n",
    "SizeMarginX = 0.1\n",
    "SizeMarginY = 0.1"
   ]
  },
  {
   "cell_type": "code",
   "execution_count": 11,
   "id": "d9d8f3fa-b981-4ff1-9be0-862bcc7ae0ed",
   "metadata": {},
   "outputs": [],
   "source": [
    "sizeX, sizeY, NCX, NCY, matrix = image_to_map(path_to_map, resolution, VOXSIZE, mean_area, SizeMarginX, SizeMarginY)"
   ]
  },
  {
   "cell_type": "code",
   "execution_count": 24,
   "id": "864d5f52-37e4-4182-aeb3-1b2b035c0fef",
   "metadata": {},
   "outputs": [],
   "source": [
    "# own dictionary of energy_params"
   ]
  },
  {
   "cell_type": "code",
   "execution_count": 7,
   "id": "bcc16ee1-36cf-4e81-8277-b2a045ec9343",
   "metadata": {},
   "outputs": [],
   "source": [
    "config_dict = {\"GN_CM\":{\"value\":153.8024657837445},\"GN_FB\":{\"value\":73.9722990282019},\"LMAX_CM\":{\"value\":65.96875628372032},\"LMAX_FB\":{\"value\":113.86993992849442},\"DETACH_CM\":{\"value\":80.23878850217889},\"DETACH_FB\":{\"value\":18.89881656769304},\"CELL_DAY_TYPE\":{\"value\":\"d20\"},\"MAX_FOCALS_CM\":{\"value\":5},\"MAX_FOCALS_FB\":{\"value\":4},\"INELASTICITY_CM\":{\"value\":250.8474402530476},\"INELASTICITY_FB\":{\"value\":190.52198651824875},\"TARGETVOLUME_CM\":{\"value\":372.0852209450911},\"TARGETVOLUME_FB\":{\"value\":358.78661649228}}"
   ]
  },
  {
   "cell_type": "code",
   "execution_count": 8,
   "id": "95db8016-dc33-41b9-9c86-e66e55ec603f",
   "metadata": {},
   "outputs": [],
   "source": [
    "cfg={}\n",
    "for arg, value in config_dict.items():\n",
    "\t\tcfg[arg]=value['value']"
   ]
  },
  {
   "cell_type": "markdown",
   "id": "4bfbf542-0b8e-41c0-b792-e701242afef6",
   "metadata": {},
   "source": [
    "Run simulation"
   ]
  },
  {
   "cell_type": "code",
   "execution_count": 12,
   "id": "39db8027-ae3f-48dc-8a63-7aaa4831868b",
   "metadata": {},
   "outputs": [
    {
     "name": "stderr",
     "output_type": "stream",
     "text": [
      "/home/vadim/MRI/pyVCT/utils/parse_config.py:13: YAMLLoadWarning: calling yaml.load() without Loader=... is deprecated, as the default Loader is unsafe. Please read https://msg.pyyaml.org/load for full details.\n",
      "  data= yaml.load(f)\n"
     ]
    }
   ],
   "source": [
    "types, c_tags, fibers, contacts = pyVCT.py_cpmfem(NCX, NCY, matrix, VOXSIZE, sizeX, sizeY, scenario, RAND_SEED, NRINC, cyto, **cfg)"
   ]
  },
  {
   "cell_type": "markdown",
   "id": "4228f653-43a1-4a33-9135-d2fb8f1fa007",
   "metadata": {},
   "source": [
    "To make image"
   ]
  },
  {
   "cell_type": "code",
   "execution_count": null,
   "id": "0b29b1f5-ff05-404a-ac6f-f2eb90eac5fd",
   "metadata": {},
   "outputs": [],
   "source": [
    "from PIL import Image"
   ]
  },
  {
   "cell_type": "code",
   "execution_count": 17,
   "id": "bad78339-d23f-4ab9-beba-62a275ecd7a8",
   "metadata": {},
   "outputs": [],
   "source": [
    "img = make_image(ctags, types , fibers, contacts, 0)\n",
    "img = Image.fromarray(img)"
   ]
  },
  {
   "cell_type": "code",
   "execution_count": 21,
   "id": "694da8f5-d044-4dda-b5ec-6d5a554671ac",
   "metadata": {},
   "outputs": [],
   "source": [
    "img.show()"
   ]
  },
  {
   "cell_type": "code",
   "execution_count": 22,
   "id": "1be9a3cc-367f-429c-a78e-3aade1a22b7a",
   "metadata": {},
   "outputs": [],
   "source": [
    "img.save('example.jpg')"
   ]
  },
  {
   "cell_type": "code",
   "execution_count": null,
   "id": "1f8ae067-e769-46f2-945c-99d19de04c13",
   "metadata": {},
   "outputs": [],
   "source": []
  }
 ],
 "metadata": {
  "kernelspec": {
   "display_name": "Python 3 (ipykernel)",
   "language": "python",
   "name": "python3"
  },
  "language_info": {
   "codemirror_mode": {
    "name": "ipython",
    "version": 3
   },
   "file_extension": ".py",
   "mimetype": "text/x-python",
   "name": "python",
   "nbconvert_exporter": "python",
   "pygments_lexer": "ipython3",
   "version": "3.11.4"
  }
 },
 "nbformat": 4,
 "nbformat_minor": 5
}
